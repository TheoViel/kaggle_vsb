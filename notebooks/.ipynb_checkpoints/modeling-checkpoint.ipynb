{
 "cells": [
  {
   "cell_type": "markdown",
   "metadata": {
    "_uuid": "01f361ddc47e0b386595316fe3d7f4dabbd260db"
   },
   "source": [
    "# Modeling Kernel "
   ]
  },
  {
   "cell_type": "markdown",
   "metadata": {},
   "source": [
    "## Initialization"
   ]
  },
  {
   "cell_type": "markdown",
   "metadata": {
    "heading_collapsed": true
   },
   "source": [
    "### Imports"
   ]
  },
  {
   "cell_type": "code",
   "execution_count": 1,
   "metadata": {
    "_cell_guid": "b1076dfc-b9ad-4769-8c92-a6c4dae69d19",
    "_kg_hide-input": true,
    "_kg_hide-output": true,
    "_uuid": "8f2839f25d086af736a60e9eeb907d3b93b6e0e5",
    "hidden": true
   },
   "outputs": [],
   "source": [
    "import re\n",
    "import gc\n",
    "import os\n",
    "import time\n",
    "import torch\n",
    "import random\n",
    "import warnings\n",
    "import operator\n",
    "import itertools\n",
    "import numpy as np\n",
    "import pandas as pd\n",
    "import torch.nn as nn\n",
    "import seaborn as sns\n",
    "import torch.utils.data\n",
    "import matplotlib.pyplot as plt\n",
    "\n",
    "from numba import jit\n",
    "from torchvision import models\n",
    "from sklearn.metrics import *\n",
    "from collections import Counter\n",
    "from tqdm import tqdm_notebook as tqdm\n",
    "from multiprocessing import Pool, cpu_count\n",
    "from sklearn.preprocessing import StandardScaler\n",
    "from sklearn.model_selection import train_test_split, StratifiedKFold, RepeatedStratifiedKFold\n",
    "\n",
    "sns.set_style('whitegrid')\n",
    "warnings.simplefilter(action='ignore')"
   ]
  },
  {
   "cell_type": "markdown",
   "metadata": {
    "heading_collapsed": true
   },
   "source": [
    "### Seeding"
   ]
  },
  {
   "cell_type": "code",
   "execution_count": 2,
   "metadata": {
    "_kg_hide-input": true,
    "_uuid": "d4b9e0c513495041b334d2cd9f315a1f2aa8192f",
    "hidden": true
   },
   "outputs": [],
   "source": [
    "def seed_everything(seed):\n",
    "    random.seed(seed)\n",
    "    os.environ['PYTHONHASHSEED'] = str(seed)\n",
    "    np.random.seed(seed)\n",
    "    torch.manual_seed(seed)\n",
    "    torch.cuda.manual_seed(seed)\n",
    "    torch.backends.cudnn.deterministic = True"
   ]
  },
  {
   "cell_type": "code",
   "execution_count": 3,
   "metadata": {
    "_uuid": "e784eedbc8234704b41156808743993c9da13d9f",
    "hidden": true
   },
   "outputs": [],
   "source": [
    "seed = 1029\n",
    "seed_everything(seed)\n",
    "begin = time.time()"
   ]
  },
  {
   "cell_type": "markdown",
   "metadata": {},
   "source": [
    "### Paths"
   ]
  },
  {
   "cell_type": "code",
   "execution_count": 4,
   "metadata": {},
   "outputs": [],
   "source": [
    "FEATURES_FOLDER = \"../input/features\"\n",
    "DATA_FOLDER = \"../input/data\""
   ]
  },
  {
   "cell_type": "markdown",
   "metadata": {
    "_uuid": "e36041fbc5188f706645603c140cd4f09ec789d0"
   },
   "source": [
    "## Processing Data"
   ]
  },
  {
   "cell_type": "markdown",
   "metadata": {
    "_uuid": "e36041fbc5188f706645603c140cd4f09ec789d0"
   },
   "source": [
    "### Loading"
   ]
  },
  {
   "cell_type": "code",
   "execution_count": 183,
   "metadata": {},
   "outputs": [],
   "source": [
    "y = pd.read_csv(F'{DATA_FOLDER}/metadata_train.csv')['target'].values"
   ]
  },
  {
   "cell_type": "code",
   "execution_count": null,
   "metadata": {},
   "outputs": [],
   "source": [
    "features_name = \"dist\""
   ]
  },
  {
   "cell_type": "code",
   "execution_count": 184,
   "metadata": {
    "_cell_guid": "79c7e3d0-c299-4dcb-8224-4455121ee9b0",
    "_uuid": "d629ff2d2480ee46fbb7e2d37f6b5fab8052498a"
   },
   "outputs": [
    {
     "name": "stdout",
     "output_type": "stream",
     "text": [
      "Train shape :  (8712, 160, 21)\n"
     ]
    }
   ],
   "source": [
    "X = np.load(f\"../input/data/X_{features_name}npy\")\n",
    "\n",
    "print(\"Train shape : \", X.shape)"
   ]
  },
  {
   "cell_type": "code",
   "execution_count": 185,
   "metadata": {
    "scrolled": true
   },
   "outputs": [
    {
     "name": "stdout",
     "output_type": "stream",
     "text": [
      "Test shape :  (20337, 160, 21)\n"
     ]
    }
   ],
   "source": [
    "X_test_1 = np.load(\"../npy/X_test_{features_name}_1.npy\")\n",
    "X_test_2 = np.load(\"../npy/X_test_{features_name}_2.npy\")\n",
    "X_test_3 = np.load(\"../npy/X_test_{features_name}_3.npy\")\n",
    "\n",
    "X_test = np.concatenate([X_test_1, X_test_2, X_test_3])\n",
    "print(\"Test shape : \", X_test.shape)"
   ]
  },
  {
   "cell_type": "markdown",
   "metadata": {},
   "source": [
    "### Normalizing"
   ]
  },
  {
   "cell_type": "code",
   "execution_count": 186,
   "metadata": {},
   "outputs": [],
   "source": [
    "def normalize(X, X_test=None):\n",
    "    min_ = np.min(np.min(X, axis=0), axis=0)\n",
    "    max_ = np.max(np.max(X, axis=0), axis=0)\n",
    "    X = (X - min_) / (max_ - min_) \n",
    "    \n",
    "    if X_test is not None: \n",
    "        X_test = (X_test - min_) / (max_ - min_)\n",
    "        return X, X_test\n",
    "    \n",
    "    return X"
   ]
  },
  {
   "cell_type": "code",
   "execution_count": 187,
   "metadata": {},
   "outputs": [],
   "source": [
    "X, X_test= normalize(X, X_test)"
   ]
  },
  {
   "cell_type": "markdown",
   "metadata": {},
   "source": [
    "### Merging\n",
    "We basically create our input here. The main idea is for each signal to create a 3 channel input with each channel corresponding to a phase. Our signal is labeled 1 if one of the phases has a fault."
   ]
  },
  {
   "cell_type": "code",
   "execution_count": 188,
   "metadata": {},
   "outputs": [],
   "source": [
    "def merge(X, y):\n",
    "    X0 = X[::3][:, np.newaxis, :, :]  # phase 0\n",
    "    X1 = X[1::3][:, np.newaxis, :, :] # phase 1\n",
    "    X2 = X[2::3][:, np.newaxis, :, :] # phase 2\n",
    "    \n",
    "    X_merged = np.concatenate((X0, X1, X2), axis=1)\n",
    "    y_merged = (np.sum((y[::3], y[1::3], y[2::3]), axis=0) > 1).astype(int)\n",
    "\n",
    "    return X_merged, y_merged\n"
   ]
  },
  {
   "cell_type": "code",
   "execution_count": 189,
   "metadata": {},
   "outputs": [],
   "source": [
    "X, y = merge(X, y)\n",
    "X_test, _ = merge(X_test, np.zeros((X_test.shape[0])))"
   ]
  },
  {
   "cell_type": "code",
   "execution_count": 190,
   "metadata": {},
   "outputs": [
    {
     "name": "stdout",
     "output_type": "stream",
     "text": [
      "Input shape : (2904, 3, 160, 21)\n"
     ]
    }
   ],
   "source": [
    "sample_size =  X.shape[1]\n",
    "nb_features = X.shape[2]\n",
    "\n",
    "print(\"Input shape :\", X.shape)"
   ]
  },
  {
   "cell_type": "markdown",
   "metadata": {},
   "source": [
    "### Target Distribution"
   ]
  },
  {
   "cell_type": "code",
   "execution_count": 191,
   "metadata": {},
   "outputs": [
    {
     "data": {
      "image/png": "[encoded data removed]",
      "text/plain": [
       "<Figure size 432x288 with 1 Axes>"
      ]
     },
     "metadata": {},
     "output_type": "display_data"
    }
   ],
   "source": [
    "sns.countplot(y)\n",
    "plt.title(f\"Train : {Counter(y)}\")\n",
    "plt.show()"
   ]
  },
  {
   "cell_type": "markdown",
   "metadata": {
    "_uuid": "5c79a9136f41cf4ad76051632f8152a0f8208336"
   },
   "source": [
    "## Models"
   ]
  },
  {
   "cell_type": "code",
   "execution_count": 192,
   "metadata": {
    "_uuid": "a2dce376c87c551e2ce463fe9bc38cba50ca3d1e"
   },
   "outputs": [],
   "source": [
    "class Model(nn.Module):\n",
    "    def __init__(self):\n",
    "        super(Model, self).__init__()\n",
    "        \n",
    "        self.features = nn.Sequential(\n",
    "            nn.Conv2d(3, 16, kernel_size=5, padding=2),\n",
    "            nn.ReLU(inplace=True),\n",
    "            nn.MaxPool2d(kernel_size=3, stride=2),\n",
    "            nn.Conv2d(16, 32, kernel_size=3, padding=2),\n",
    "            nn.ReLU(inplace=True),\n",
    "            nn.MaxPool2d(kernel_size=3, stride=2))\n",
    "        \n",
    "        self.avgpool = nn.AdaptiveAvgPool2d((6, 6))\n",
    "        \n",
    "        self.classifier = nn.Sequential(\n",
    "            nn.Dropout(),\n",
    "            nn.Linear(32 * 6 * 6, 32),\n",
    "            nn.ReLU(inplace=True),\n",
    "            nn.Dropout(),\n",
    "            nn.Linear(32, 1))\n",
    "\n",
    "    def forward(self, x):\n",
    "        x = self.features(x)\n",
    "        x = self.avgpool(x)\n",
    "        x = x.view(x.size(0), 32 * 6 * 6)\n",
    "        x = self.classifier(x)\n",
    "        return x"
   ]
  },
  {
   "cell_type": "markdown",
   "metadata": {
    "_uuid": "80580a6745b44b8b63ab725672c8ffafbab57e75"
   },
   "source": [
    "## Tools"
   ]
  },
  {
   "cell_type": "markdown",
   "metadata": {
    "_uuid": "a7a163f4704046ecd6b0d1ad0668bd21186d48b6"
   },
   "source": [
    "### Sigmoid"
   ]
  },
  {
   "cell_type": "code",
   "execution_count": 193,
   "metadata": {
    "_kg_hide-input": true,
    "_uuid": "4a2aa9c20b2d5e6e7aeb18d637b56b281818d7df"
   },
   "outputs": [],
   "source": [
    "def sigmoid(x):\n",
    "    return 1 / (1 + np.exp(-x))"
   ]
  },
  {
   "cell_type": "markdown",
   "metadata": {
    "_uuid": "fd4803e31f69200b5adc1e6ab28debfcf5d54eda"
   },
   "source": [
    "### Fast MCC"
   ]
  },
  {
   "cell_type": "code",
   "execution_count": 194,
   "metadata": {},
   "outputs": [],
   "source": [
    "@jit\n",
    "def mcc(tp, tn, fp, fn):\n",
    "    sup = tp * tn - fp * fn\n",
    "    inf = (tp + fp) * (tp + fn) * (tn + fp) * (tn + fn)\n",
    "    if inf==0:\n",
    "        return 0\n",
    "    else:\n",
    "        return sup / np.sqrt(inf)\n",
    "\n",
    "@jit\n",
    "def eval_mcc(y_prob, y_true):\n",
    "    idx = np.argsort(y_prob)\n",
    "    y_true_sort = y_true[idx]\n",
    "    n = y_true.shape[0]\n",
    "    nump = 1.0 * np.sum(y_true) # number of positive\n",
    "    numn = n - nump # number of negative\n",
    "    tp = nump\n",
    "    tn = 0.0\n",
    "    fp = numn\n",
    "    fn = 0.0\n",
    "    best_mcc = 0.0\n",
    "    best_id = -1\n",
    "    prev_proba = -1\n",
    "    best_proba = -1\n",
    "    mccs = np.zeros(n)\n",
    "    for i in range(n):  #change this to test fewer thresholds\n",
    "        # all items with idx < i are predicted negative while others are predicted positive\n",
    "        # only evaluate mcc when probability changes\n",
    "        proba = y_prob[idx[i]]\n",
    "        if proba != prev_proba:\n",
    "            prev_proba = proba\n",
    "            new_mcc = mcc(tp, tn, fp, fn)\n",
    "            if new_mcc >= best_mcc and proba > 0.2:\n",
    "                best_mcc = new_mcc\n",
    "                best_id = i\n",
    "                best_proba = proba\n",
    "        mccs[i] = new_mcc\n",
    "        if y_true_sort[i] == 1:\n",
    "            tp -= 1.0\n",
    "            fn += 1.0\n",
    "        else:\n",
    "            fp -= 1.0\n",
    "            tn += 1.0\n",
    "        if proba > 0.5:\n",
    "            break\n",
    "    return best_mcc, best_proba"
   ]
  },
  {
   "cell_type": "markdown",
   "metadata": {
    "_uuid": "fd4803e31f69200b5adc1e6ab28debfcf5d54eda"
   },
   "source": [
    "### Checkpoints"
   ]
  },
  {
   "cell_type": "code",
   "execution_count": 195,
   "metadata": {},
   "outputs": [],
   "source": [
    "def save_checkpoint(state, loss, best_loss, filename='checkpoint.pth.tar'):\n",
    "    if loss < best_loss:\n",
    "        torch.save(state, filename)\n",
    "        return True"
   ]
  },
  {
   "cell_type": "code",
   "execution_count": 196,
   "metadata": {
    "_kg_hide-input": true,
    "_uuid": "c72a651d7a05c238f95b2b2baf43938d74550450"
   },
   "outputs": [],
   "source": [
    "def load_checkpoint(model, filename='checkpoint.pth.tar'):\n",
    "    checkpoint = torch.load(filename)\n",
    "    model.load_state_dict(checkpoint['state_dict'])\n",
    "    print(\"=> loaded checkpoint '{}' (trained for {} epochs)\".format(filename, checkpoint['epoch']))"
   ]
  },
  {
   "cell_type": "markdown",
   "metadata": {
    "_uuid": "6ef6ada77fc3f425e1b68544aa35862c0ee94127"
   },
   "source": [
    "### Learning rate"
   ]
  },
  {
   "cell_type": "code",
   "execution_count": 197,
   "metadata": {
    "_kg_hide-input": true,
    "_uuid": "6a4f4f82796d3cb04219187c4b5a2872f75376f6"
   },
   "outputs": [],
   "source": [
    "def get_lr(epoch):\n",
    "    if epoch <= 100:\n",
    "        return 0.001\n",
    "    else:\n",
    "        return 0.0001"
   ]
  },
  {
   "cell_type": "markdown",
   "metadata": {
    "_uuid": "25c55fca688b6b988c72bc368d595dc0cc927533"
   },
   "source": [
    "### Predict"
   ]
  },
  {
   "cell_type": "code",
   "execution_count": 198,
   "metadata": {
    "_kg_hide-input": true,
    "_uuid": "7185f2ee89813b7c279567439fb6448adc988e6e"
   },
   "outputs": [],
   "source": [
    "def predict(X, model, batch_size=1024):\n",
    "    y = np.array([])\n",
    "    X = torch.tensor(X, dtype=torch.float32).cuda()\n",
    "    X = torch.utils.data.TensorDataset(X)\n",
    "    X_loader = torch.utils.data.DataLoader(X, batch_size=batch_size, shuffle=False)\n",
    "    for i, (x,) in enumerate(X_loader):\n",
    "        y = np.concatenate((y, sigmoid(model(x).detach().cpu().numpy())[:, 0]))\n",
    "    return y"
   ]
  },
  {
   "cell_type": "markdown",
   "metadata": {
    "_uuid": "3a0989dc4c8b885cdd1a18ac2783241613d9d144"
   },
   "source": [
    "### Fit"
   ]
  },
  {
   "cell_type": "code",
   "execution_count": 199,
   "metadata": {
    "_kg_hide-input": true,
    "_uuid": "5eaf90588739c647834ed33a7e3a2fdeb032cc54"
   },
   "outputs": [],
   "source": [
    "def fit(model, X_train, y_train, X_val, y_val, epochs=5, batch_size=512, cp_file=\"../checkpoints/weights.pth.tar\", verbose=1):\n",
    "    model.cuda()\n",
    "    best_loss = 1000\n",
    "    \n",
    "    loss_fn = torch.nn.BCEWithLogitsLoss(reduction='sum')\n",
    "    optimizer = torch.optim.Adam(filter(lambda p: p.requires_grad, model.parameters()), lr=0.001)\n",
    "        \n",
    "    X_train = torch.tensor(X_train, dtype=torch.float32).cuda()\n",
    "    y_train = torch.tensor(y_train[:, np.newaxis], dtype=torch.float32).cuda()\n",
    "    train = torch.utils.data.TensorDataset(X_train, y_train)    \n",
    "    train_loader = torch.utils.data.DataLoader(train, batch_size=batch_size, shuffle=True)\n",
    "    \n",
    "    X_val = torch.tensor(X_val, dtype=torch.float32).cuda()\n",
    "    y_val = torch.tensor(y_val[:, np.newaxis], dtype=torch.float32).cuda()\n",
    "    val = torch.utils.data.TensorDataset(X_val, y_val)\n",
    "    val_loader = torch.utils.data.DataLoader(val, batch_size=batch_size, shuffle=False)\n",
    "\n",
    "    for epoch in range(epochs):\n",
    "        model.train()\n",
    "        avg_loss = 0\n",
    "        start_time = time.time()  \n",
    "            \n",
    "        lr = get_lr(epoch)\n",
    "        for param_group in optimizer.param_groups:\n",
    "            param_group['lr'] = lr\n",
    "        \n",
    "        for x_batch, y_batch in train_loader:\n",
    "            optimizer.zero_grad()\n",
    "            y_pred = model(x_batch)\n",
    "            loss = loss_fn(y_pred, y_batch)\n",
    "            loss.backward()\n",
    "            optimizer.step()\n",
    "            avg_loss += loss.item() / X_train.shape[0]\n",
    "    \n",
    "        model.eval()\n",
    "        avg_val_loss = 0.\n",
    "\n",
    "        for i, (x_batch, y_batch) in enumerate(val_loader):\n",
    "            y_pred = model(x_batch).detach()\n",
    "            avg_val_loss += loss_fn(y_pred, y_batch).item() / X_val.shape[0]\n",
    "\n",
    "        if save_checkpoint({'epoch': epoch + 1, 'state_dict': model.state_dict()}, avg_val_loss, best_loss, filename=cp_file):\n",
    "            best_loss = avg_val_loss\n",
    "            \n",
    "        elapsed_time = time.time() - start_time\n",
    "        if (epoch + 1) % 5 * verbose == 0:\n",
    "            print('Epoch {}/{} \\t lr={} \\t loss={:.4f} \\t val_loss={:.4f} \\t time={:.2f}s'.format(epoch+1, epochs, lr, avg_loss, avg_val_loss, elapsed_time))"
   ]
  },
  {
   "cell_type": "markdown",
   "metadata": {
    "_uuid": "5388fcfcb1e485f77cb725f0ca32612adad05905"
   },
   "source": [
    "### $k$-fold"
   ]
  },
  {
   "cell_type": "code",
   "execution_count": 200,
   "metadata": {
    "_kg_hide-input": true,
    "_uuid": "0d826f60f049a0ccad48948d5dbdec65168d8699"
   },
   "outputs": [],
   "source": [
    "def k_fold(model_class, X, y, X_test=[], k=5, batch_size=128, epochs=50, seed=2019, \n",
    "           verbose=1, cp=False, cp_file=\"../checkpoints/weights.pth.tar\"):\n",
    "    \n",
    "    splits = list(StratifiedKFold(n_splits=k, shuffle=True, random_state=seed).split(X, y))\n",
    "    pred_test = np.zeros((X_test.shape[0]))\n",
    "    pred_oof = np.zeros((y.shape[0]))\n",
    "    histories = []\n",
    "    \n",
    "    for i, (train_idx, val_idx) in enumerate(splits):\n",
    "        print(f\"-------------   Fold {i+1}  ------------- \\n\")\n",
    "        seed_everything(seed + i)\n",
    "        start_time = time.time()\n",
    "        \n",
    "        model = model_class()\n",
    "        history = fit(model, X[train_idx], y[train_idx], X[val_idx], y[val_idx], \n",
    "                      epochs=epochs, batch_size=batch_size, cp_file=cp_file, verbose=verbose)\n",
    "        \n",
    "        if cp:\n",
    "            load_checkpoint(model, cp_file)\n",
    "\n",
    "        pred_val = predict(X[val_idx], model)\n",
    "        pred_oof[val_idx] = pred_val\n",
    "        pred_test += predict(X_test, model) / k\n",
    "        \n",
    "        score = matthews_corrcoef(pred_val.flatten() > 0.5, y[val_idx].flatten())\n",
    "        print(f\"\\n Scored {score :.4f} with threshold 0.5 on validation data\")\n",
    "        \n",
    "        histories.append(history)\n",
    "        print(f\"\\n    Done in {(time.time() - start_time) / 60 :.1f} minutes \\n\")\n",
    "        \n",
    "    return pred_test, pred_oof, histories"
   ]
  },
  {
   "cell_type": "markdown",
   "metadata": {},
   "source": [
    "## Fitting"
   ]
  },
  {
   "cell_type": "code",
   "execution_count": 213,
   "metadata": {
    "_uuid": "cda94967ed5749b9ffa2c918f2924826ab42d61e",
    "scrolled": true
   },
   "outputs": [
    {
     "name": "stdout",
     "output_type": "stream",
     "text": [
      "-------------   Fold 1  ------------- \n",
      "\n",
      "Epoch 5/150 \t lr=0.001 \t loss=0.2285 \t val_loss=0.2289 \t time=0.38s\n",
      "Epoch 10/150 \t lr=0.001 \t loss=0.2243 \t val_loss=0.2124 \t time=0.39s\n",
      "Epoch 15/150 \t lr=0.001 \t loss=0.1569 \t val_loss=0.1489 \t time=0.41s\n",
      "Epoch 20/150 \t lr=0.001 \t loss=0.1429 \t val_loss=0.1372 \t time=0.43s\n",
      "Epoch 25/150 \t lr=0.001 \t loss=0.1270 \t val_loss=0.1257 \t time=0.38s\n",
      "Epoch 30/150 \t lr=0.001 \t loss=0.1235 \t val_loss=0.1260 \t time=0.39s\n",
      "Epoch 35/150 \t lr=0.001 \t loss=0.1163 \t val_loss=0.1164 \t time=0.41s\n",
      "Epoch 40/150 \t lr=0.001 \t loss=0.1111 \t val_loss=0.1275 \t time=0.43s\n",
      "Epoch 45/150 \t lr=0.001 \t loss=0.1180 \t val_loss=0.1123 \t time=0.41s\n",
      "Epoch 50/150 \t lr=0.001 \t loss=0.1189 \t val_loss=0.1273 \t time=0.41s\n",
      "Epoch 55/150 \t lr=0.001 \t loss=0.1020 \t val_loss=0.1183 \t time=0.42s\n",
      "Epoch 60/150 \t lr=0.001 \t loss=0.1100 \t val_loss=0.1139 \t time=0.45s\n",
      "Epoch 65/150 \t lr=0.001 \t loss=0.1045 \t val_loss=0.1065 \t time=0.42s\n",
      "Epoch 70/150 \t lr=0.001 \t loss=0.1059 \t val_loss=0.1069 \t time=0.42s\n",
      "Epoch 75/150 \t lr=0.001 \t loss=0.1130 \t val_loss=0.1131 \t time=0.41s\n",
      "Epoch 80/150 \t lr=0.001 \t loss=0.1060 \t val_loss=0.1046 \t time=0.45s\n",
      "Epoch 85/150 \t lr=0.001 \t loss=0.0992 \t val_loss=0.1033 \t time=0.43s\n",
      "Epoch 90/150 \t lr=0.001 \t loss=0.1015 \t val_loss=0.1280 \t time=0.44s\n",
      "Epoch 95/150 \t lr=0.001 \t loss=0.0964 \t val_loss=0.1013 \t time=0.44s\n",
      "Epoch 100/150 \t lr=0.001 \t loss=0.0929 \t val_loss=0.1083 \t time=0.44s\n",
      "Epoch 105/150 \t lr=0.0001 \t loss=0.0897 \t val_loss=0.1012 \t time=0.44s\n",
      "Epoch 110/150 \t lr=0.0001 \t loss=0.0869 \t val_loss=0.1007 \t time=0.47s\n",
      "Epoch 115/150 \t lr=0.0001 \t loss=0.0896 \t val_loss=0.1004 \t time=0.82s\n",
      "Epoch 120/150 \t lr=0.0001 \t loss=0.0882 \t val_loss=0.1004 \t time=0.48s\n",
      "Epoch 125/150 \t lr=0.0001 \t loss=0.0917 \t val_loss=0.1004 \t time=0.49s\n",
      "Epoch 130/150 \t lr=0.0001 \t loss=0.0906 \t val_loss=0.0998 \t time=0.50s\n",
      "Epoch 135/150 \t lr=0.0001 \t loss=0.0904 \t val_loss=0.0997 \t time=0.75s\n",
      "Epoch 140/150 \t lr=0.0001 \t loss=0.0887 \t val_loss=0.0986 \t time=0.80s\n",
      "Epoch 145/150 \t lr=0.0001 \t loss=0.0895 \t val_loss=0.0988 \t time=0.80s\n",
      "Epoch 150/150 \t lr=0.0001 \t loss=0.0922 \t val_loss=0.0991 \t time=0.81s\n",
      "\n",
      " Scored 0.6567 with threshold 0.5 on validation data\n",
      "\n",
      "    Done in 1.2 minutes \n",
      "\n",
      "-------------   Fold 2  ------------- \n",
      "\n",
      "Epoch 5/150 \t lr=0.001 \t loss=0.2401 \t val_loss=0.2265 \t time=0.80s\n",
      "Epoch 10/150 \t lr=0.001 \t loss=0.1964 \t val_loss=0.1801 \t time=0.83s\n",
      "Epoch 15/150 \t lr=0.001 \t loss=0.1597 \t val_loss=0.1640 \t time=0.80s\n",
      "Epoch 20/150 \t lr=0.001 \t loss=0.1341 \t val_loss=0.1339 \t time=0.84s\n",
      "Epoch 25/150 \t lr=0.001 \t loss=0.1315 \t val_loss=0.1386 \t time=0.78s\n",
      "Epoch 30/150 \t lr=0.001 \t loss=0.1199 \t val_loss=0.1208 \t time=0.81s\n",
      "Epoch 35/150 \t lr=0.001 \t loss=0.1347 \t val_loss=0.1167 \t time=0.83s\n",
      "Epoch 40/150 \t lr=0.001 \t loss=0.1120 \t val_loss=0.1129 \t time=0.87s\n",
      "Epoch 45/150 \t lr=0.001 \t loss=0.1080 \t val_loss=0.1118 \t time=0.82s\n",
      "Epoch 50/150 \t lr=0.001 \t loss=0.1192 \t val_loss=0.1167 \t time=0.85s\n",
      "Epoch 55/150 \t lr=0.001 \t loss=0.1042 \t val_loss=0.1087 \t time=0.83s\n",
      "Epoch 60/150 \t lr=0.001 \t loss=0.1021 \t val_loss=0.1075 \t time=0.84s\n",
      "Epoch 65/150 \t lr=0.001 \t loss=0.1038 \t val_loss=0.1304 \t time=0.86s\n",
      "Epoch 70/150 \t lr=0.001 \t loss=0.1073 \t val_loss=0.1077 \t time=0.83s\n",
      "Epoch 75/150 \t lr=0.001 \t loss=0.1007 \t val_loss=0.1059 \t time=0.89s\n",
      "Epoch 80/150 \t lr=0.001 \t loss=0.1024 \t val_loss=0.1067 \t time=0.83s\n",
      "Epoch 85/150 \t lr=0.001 \t loss=0.1015 \t val_loss=0.1175 \t time=0.96s\n",
      "Epoch 90/150 \t lr=0.001 \t loss=0.1005 \t val_loss=0.1144 \t time=0.87s\n",
      "Epoch 95/150 \t lr=0.001 \t loss=0.0958 \t val_loss=0.1072 \t time=0.87s\n",
      "Epoch 100/150 \t lr=0.001 \t loss=0.0995 \t val_loss=0.1175 \t time=0.85s\n",
      "Epoch 105/150 \t lr=0.0001 \t loss=0.0939 \t val_loss=0.1063 \t time=0.87s\n",
      "Epoch 110/150 \t lr=0.0001 \t loss=0.0963 \t val_loss=0.1062 \t time=0.89s\n",
      "Epoch 115/150 \t lr=0.0001 \t loss=0.0943 \t val_loss=0.1063 \t time=0.89s\n",
      "Epoch 120/150 \t lr=0.0001 \t loss=0.0905 \t val_loss=0.1074 \t time=0.88s\n",
      "Epoch 125/150 \t lr=0.0001 \t loss=0.0959 \t val_loss=0.1074 \t time=0.88s\n",
      "Epoch 130/150 \t lr=0.0001 \t loss=0.0920 \t val_loss=0.1076 \t time=0.93s\n",
      "Epoch 135/150 \t lr=0.0001 \t loss=0.0878 \t val_loss=0.1077 \t time=0.89s\n",
      "Epoch 140/150 \t lr=0.0001 \t loss=0.0904 \t val_loss=0.1074 \t time=0.91s\n",
      "Epoch 145/150 \t lr=0.0001 \t loss=0.0919 \t val_loss=0.1079 \t time=0.87s\n",
      "Epoch 150/150 \t lr=0.0001 \t loss=0.0926 \t val_loss=0.1068 \t time=0.84s\n",
      "\n",
      " Scored 0.7151 with threshold 0.5 on validation data\n",
      "\n",
      "    Done in 2.2 minutes \n",
      "\n",
      "-------------   Fold 3  ------------- \n",
      "\n",
      "Epoch 5/150 \t lr=0.001 \t loss=0.2410 \t val_loss=0.2254 \t time=0.82s\n",
      "Epoch 10/150 \t lr=0.001 \t loss=0.2282 \t val_loss=0.2084 \t time=0.83s\n",
      "Epoch 15/150 \t lr=0.001 \t loss=0.1965 \t val_loss=0.1758 \t time=0.92s\n",
      "Epoch 20/150 \t lr=0.001 \t loss=0.1621 \t val_loss=0.1467 \t time=0.88s\n",
      "Epoch 25/150 \t lr=0.001 \t loss=0.1424 \t val_loss=0.1273 \t time=0.95s\n",
      "Epoch 30/150 \t lr=0.001 \t loss=0.1344 \t val_loss=0.1283 \t time=0.83s\n",
      "Epoch 35/150 \t lr=0.001 \t loss=0.1300 \t val_loss=0.1228 \t time=0.82s\n",
      "Epoch 40/150 \t lr=0.001 \t loss=0.1246 \t val_loss=0.1228 \t time=0.85s\n",
      "Epoch 45/150 \t lr=0.001 \t loss=0.1164 \t val_loss=0.1197 \t time=0.84s\n",
      "Epoch 50/150 \t lr=0.001 \t loss=0.1249 \t val_loss=0.1167 \t time=0.95s\n",
      "Epoch 55/150 \t lr=0.001 \t loss=0.1103 \t val_loss=0.1201 \t time=0.88s\n",
      "Epoch 60/150 \t lr=0.001 \t loss=0.1136 \t val_loss=0.1145 \t time=0.94s\n",
      "Epoch 65/150 \t lr=0.001 \t loss=0.1064 \t val_loss=0.1131 \t time=0.92s\n",
      "Epoch 70/150 \t lr=0.001 \t loss=0.1006 \t val_loss=0.1258 \t time=0.94s\n",
      "Epoch 75/150 \t lr=0.001 \t loss=0.0995 \t val_loss=0.1145 \t time=0.87s\n",
      "Epoch 80/150 \t lr=0.001 \t loss=0.0956 \t val_loss=0.1200 \t time=0.85s\n",
      "Epoch 85/150 \t lr=0.001 \t loss=0.1024 \t val_loss=0.1111 \t time=0.83s\n",
      "Epoch 90/150 \t lr=0.001 \t loss=0.1087 \t val_loss=0.1143 \t time=0.82s\n",
      "Epoch 95/150 \t lr=0.001 \t loss=0.0963 \t val_loss=0.1199 \t time=0.82s\n",
      "Epoch 100/150 \t lr=0.001 \t loss=0.1010 \t val_loss=0.1245 \t time=0.82s\n",
      "Epoch 105/150 \t lr=0.0001 \t loss=0.0896 \t val_loss=0.1141 \t time=0.84s\n",
      "Epoch 110/150 \t lr=0.0001 \t loss=0.0855 \t val_loss=0.1167 \t time=0.83s\n",
      "Epoch 115/150 \t lr=0.0001 \t loss=0.0906 \t val_loss=0.1180 \t time=0.87s\n",
      "Epoch 120/150 \t lr=0.0001 \t loss=0.0869 \t val_loss=0.1174 \t time=0.82s\n",
      "Epoch 125/150 \t lr=0.0001 \t loss=0.0895 \t val_loss=0.1185 \t time=0.84s\n",
      "Epoch 130/150 \t lr=0.0001 \t loss=0.0897 \t val_loss=0.1175 \t time=0.83s\n",
      "Epoch 135/150 \t lr=0.0001 \t loss=0.0891 \t val_loss=0.1173 \t time=0.84s\n",
      "Epoch 140/150 \t lr=0.0001 \t loss=0.0850 \t val_loss=0.1174 \t time=0.90s\n",
      "Epoch 145/150 \t lr=0.0001 \t loss=0.0859 \t val_loss=0.1172 \t time=0.83s\n",
      "Epoch 150/150 \t lr=0.0001 \t loss=0.0868 \t val_loss=0.1172 \t time=0.84s\n",
      "\n",
      " Scored 0.6352 with threshold 0.5 on validation data\n",
      "\n",
      "    Done in 2.2 minutes \n",
      "\n",
      "-------------   Fold 4  ------------- \n",
      "\n",
      "Epoch 5/150 \t lr=0.001 \t loss=0.2427 \t val_loss=0.2257 \t time=0.83s\n",
      "Epoch 10/150 \t lr=0.001 \t loss=0.2332 \t val_loss=0.2121 \t time=0.83s\n",
      "Epoch 15/150 \t lr=0.001 \t loss=0.1952 \t val_loss=0.1689 \t time=0.83s\n",
      "Epoch 20/150 \t lr=0.001 \t loss=0.1518 \t val_loss=0.1468 \t time=0.90s\n",
      "Epoch 25/150 \t lr=0.001 \t loss=0.1339 \t val_loss=0.1338 \t time=0.87s\n",
      "Epoch 30/150 \t lr=0.001 \t loss=0.1407 \t val_loss=0.1365 \t time=0.84s\n",
      "Epoch 35/150 \t lr=0.001 \t loss=0.1229 \t val_loss=0.1406 \t time=0.82s\n",
      "Epoch 40/150 \t lr=0.001 \t loss=0.1184 \t val_loss=0.1435 \t time=0.88s\n",
      "Epoch 45/150 \t lr=0.001 \t loss=0.1173 \t val_loss=0.1370 \t time=0.83s\n",
      "Epoch 50/150 \t lr=0.001 \t loss=0.1169 \t val_loss=0.1335 \t time=0.83s\n",
      "Epoch 55/150 \t lr=0.001 \t loss=0.1148 \t val_loss=0.1305 \t time=0.83s\n",
      "Epoch 60/150 \t lr=0.001 \t loss=0.1121 \t val_loss=0.1286 \t time=0.90s\n",
      "Epoch 65/150 \t lr=0.001 \t loss=0.1140 \t val_loss=0.1338 \t time=0.84s\n",
      "Epoch 70/150 \t lr=0.001 \t loss=0.1112 \t val_loss=0.1372 \t time=0.83s\n",
      "Epoch 75/150 \t lr=0.001 \t loss=0.1063 \t val_loss=0.1259 \t time=0.83s\n",
      "Epoch 80/150 \t lr=0.001 \t loss=0.1058 \t val_loss=0.1291 \t time=0.83s\n",
      "Epoch 85/150 \t lr=0.001 \t loss=0.0980 \t val_loss=0.1266 \t time=0.84s\n",
      "Epoch 90/150 \t lr=0.001 \t loss=0.0989 \t val_loss=0.1295 \t time=0.83s\n",
      "Epoch 95/150 \t lr=0.001 \t loss=0.0985 \t val_loss=0.1257 \t time=0.83s\n",
      "Epoch 100/150 \t lr=0.001 \t loss=0.1031 \t val_loss=0.1306 \t time=0.83s\n",
      "Epoch 105/150 \t lr=0.0001 \t loss=0.0963 \t val_loss=0.1276 \t time=0.83s\n",
      "Epoch 110/150 \t lr=0.0001 \t loss=0.0988 \t val_loss=0.1292 \t time=0.83s\n",
      "Epoch 115/150 \t lr=0.0001 \t loss=0.0899 \t val_loss=0.1288 \t time=0.83s\n",
      "Epoch 120/150 \t lr=0.0001 \t loss=0.0935 \t val_loss=0.1289 \t time=0.84s\n",
      "Epoch 125/150 \t lr=0.0001 \t loss=0.0945 \t val_loss=0.1291 \t time=0.83s\n",
      "Epoch 130/150 \t lr=0.0001 \t loss=0.0974 \t val_loss=0.1289 \t time=0.88s\n",
      "Epoch 135/150 \t lr=0.0001 \t loss=0.0938 \t val_loss=0.1291 \t time=0.83s\n",
      "Epoch 140/150 \t lr=0.0001 \t loss=0.0939 \t val_loss=0.1299 \t time=0.84s\n",
      "Epoch 145/150 \t lr=0.0001 \t loss=0.0921 \t val_loss=0.1288 \t time=0.84s\n",
      "Epoch 150/150 \t lr=0.0001 \t loss=0.0958 \t val_loss=0.1294 \t time=0.84s\n",
      "\n",
      " Scored 0.5841 with threshold 0.5 on validation data\n",
      "\n",
      "    Done in 2.1 minutes \n",
      "\n",
      "-------------   Fold 5  ------------- \n",
      "\n",
      "Epoch 5/150 \t lr=0.001 \t loss=0.2639 \t val_loss=0.2275 \t time=0.83s\n",
      "Epoch 10/150 \t lr=0.001 \t loss=0.2451 \t val_loss=0.2180 \t time=0.86s\n",
      "Epoch 15/150 \t lr=0.001 \t loss=0.2125 \t val_loss=0.2020 \t time=0.83s\n",
      "Epoch 20/150 \t lr=0.001 \t loss=0.1599 \t val_loss=0.1154 \t time=0.85s\n",
      "Epoch 25/150 \t lr=0.001 \t loss=0.1532 \t val_loss=0.1147 \t time=0.83s\n",
      "Epoch 30/150 \t lr=0.001 \t loss=0.1341 \t val_loss=0.0998 \t time=0.84s\n",
      "Epoch 35/150 \t lr=0.001 \t loss=0.1297 \t val_loss=0.1053 \t time=0.83s\n",
      "Epoch 40/150 \t lr=0.001 \t loss=0.1253 \t val_loss=0.0957 \t time=0.83s\n",
      "Epoch 45/150 \t lr=0.001 \t loss=0.1224 \t val_loss=0.0924 \t time=0.84s\n",
      "Epoch 50/150 \t lr=0.001 \t loss=0.1298 \t val_loss=0.0920 \t time=0.91s\n",
      "Epoch 55/150 \t lr=0.001 \t loss=0.1301 \t val_loss=0.0936 \t time=0.83s\n",
      "Epoch 60/150 \t lr=0.001 \t loss=0.1248 \t val_loss=0.0908 \t time=0.83s\n",
      "Epoch 65/150 \t lr=0.001 \t loss=0.1259 \t val_loss=0.0884 \t time=0.84s\n",
      "Epoch 70/150 \t lr=0.001 \t loss=0.1206 \t val_loss=0.0878 \t time=0.83s\n",
      "Epoch 75/150 \t lr=0.001 \t loss=0.1192 \t val_loss=0.0898 \t time=0.85s\n",
      "Epoch 80/150 \t lr=0.001 \t loss=0.1137 \t val_loss=0.0874 \t time=0.83s\n",
      "Epoch 85/150 \t lr=0.001 \t loss=0.1081 \t val_loss=0.0913 \t time=0.83s\n",
      "Epoch 90/150 \t lr=0.001 \t loss=0.1093 \t val_loss=0.0997 \t time=0.83s\n",
      "Epoch 95/150 \t lr=0.001 \t loss=0.1068 \t val_loss=0.0828 \t time=0.83s\n",
      "Epoch 100/150 \t lr=0.001 \t loss=0.1063 \t val_loss=0.0854 \t time=0.84s\n",
      "Epoch 105/150 \t lr=0.0001 \t loss=0.1092 \t val_loss=0.0841 \t time=0.84s\n",
      "Epoch 110/150 \t lr=0.0001 \t loss=0.1044 \t val_loss=0.0848 \t time=0.84s\n",
      "Epoch 115/150 \t lr=0.0001 \t loss=0.0969 \t val_loss=0.0856 \t time=0.84s\n",
      "Epoch 120/150 \t lr=0.0001 \t loss=0.0979 \t val_loss=0.0852 \t time=0.83s\n",
      "Epoch 125/150 \t lr=0.0001 \t loss=0.1026 \t val_loss=0.0846 \t time=0.94s\n",
      "Epoch 130/150 \t lr=0.0001 \t loss=0.1044 \t val_loss=0.0842 \t time=0.85s\n",
      "Epoch 135/150 \t lr=0.0001 \t loss=0.1016 \t val_loss=0.0850 \t time=0.87s\n",
      "Epoch 140/150 \t lr=0.0001 \t loss=0.0970 \t val_loss=0.0846 \t time=0.92s\n",
      "Epoch 145/150 \t lr=0.0001 \t loss=0.0954 \t val_loss=0.0852 \t time=0.84s\n",
      "Epoch 150/150 \t lr=0.0001 \t loss=0.0954 \t val_loss=0.0857 \t time=0.83s\n",
      "\n",
      " Scored 0.7381 with threshold 0.5 on validation data\n",
      "\n",
      "    Done in 2.1 minutes \n",
      "\n"
     ]
    }
   ],
   "source": [
    "pred_test, pred_oof, histories = k_fold(Model, X, y, X_test, k=5, batch_size=128, epochs=150, seed=seed, cp=False)"
   ]
  },
  {
   "cell_type": "markdown",
   "metadata": {
    "_uuid": "f55d1ca0b7fb2feb45f2e837ace8febd4d0afac7"
   },
   "source": [
    "### Evaluating"
   ]
  },
  {
   "cell_type": "markdown",
   "metadata": {},
   "source": [
    "#### Signal level"
   ]
  },
  {
   "cell_type": "code",
   "execution_count": 214,
   "metadata": {},
   "outputs": [],
   "source": [
    "threshold = 0.5"
   ]
  },
  {
   "cell_type": "code",
   "execution_count": 215,
   "metadata": {},
   "outputs": [
    {
     "name": "stdout",
     "output_type": "stream",
     "text": [
      "Local MCC CV : 0.666\n"
     ]
    }
   ],
   "source": [
    "score = matthews_corrcoef(pred_oof.flatten() > threshold, y.flatten())\n",
    "print(f\"Local MCC CV : {score:.3f}\")"
   ]
  },
  {
   "cell_type": "markdown",
   "metadata": {},
   "source": [
    "#### Phase level"
   ]
  },
  {
   "cell_type": "code",
   "execution_count": 216,
   "metadata": {},
   "outputs": [],
   "source": [
    "y_ = pd.read_csv('../data/metadata_train.csv')['target'].values\n",
    "pred_oof = np.repeat(pred_oof, 3)\n",
    "pred_test = np.repeat(pred_test, 3)"
   ]
  },
  {
   "cell_type": "code",
   "execution_count": 217,
   "metadata": {},
   "outputs": [
    {
     "name": "stdout",
     "output_type": "stream",
     "text": [
      "Local MCC CV : 0.659\n"
     ]
    }
   ],
   "source": [
    "score = matthews_corrcoef(pred_oof.flatten() > threshold, y_.flatten())\n",
    "print(f\"Local MCC CV : {score:.3f}\")"
   ]
  },
  {
   "cell_type": "markdown",
   "metadata": {},
   "source": [
    "## Saving results"
   ]
  },
  {
   "cell_type": "code",
   "execution_count": 218,
   "metadata": {
    "_uuid": "02ebe465490f09c447d637fba4788ab2c97f730e"
   },
   "outputs": [],
   "source": [
    "sub = pd.read_csv('../data/sample_submission.csv')"
   ]
  },
  {
   "cell_type": "code",
   "execution_count": 219,
   "metadata": {},
   "outputs": [],
   "source": [
    "sub[\"target\"] = (pred_test > threshold).astype(int)"
   ]
  },
  {
   "cell_type": "code",
   "execution_count": 220,
   "metadata": {},
   "outputs": [],
   "source": [
    "model_name = \"final_sub\""
   ]
  },
  {
   "cell_type": "code",
   "execution_count": 221,
   "metadata": {},
   "outputs": [],
   "source": [
    "sub.to_csv(f\"../submissions/{model_name}__{score:.3f}.csv\", index=False)"
   ]
  },
  {
   "cell_type": "code",
   "execution_count": 222,
   "metadata": {
    "_uuid": "bf23080c7d4f6508617b98043a972f0f12c64c37"
   },
   "outputs": [
    {
     "name": "stdout",
     "output_type": "stream",
     "text": [
      "Ended in 22.9 minutes\n"
     ]
    }
   ],
   "source": [
    "print(f\"Ended in {(time.time() - begin) / 60 :.1f} minutes\")"
   ]
  }
 ],
 "metadata": {
  "kernelspec": {
   "display_name": "Python 3",
   "language": "python",
   "name": "python3"
  },
  "language_info": {
   "codemirror_mode": {
    "name": "ipython",
    "version": 3
   },
   "file_extension": ".py",
   "mimetype": "text/x-python",
   "name": "python",
   "nbconvert_exporter": "python",
   "pygments_lexer": "ipython3",
   "version": "3.7.0"
  },
  "toc": {
   "base_numbering": 1,
   "nav_menu": {},
   "number_sections": true,
   "sideBar": true,
   "skip_h1_title": false,
   "title_cell": "Table of Contents",
   "title_sidebar": "Contents",
   "toc_cell": false,
   "toc_position": {},
   "toc_section_display": true,
   "toc_window_display": false
  }
 },
 "nbformat": 4,
 "nbformat_minor": 1
}
